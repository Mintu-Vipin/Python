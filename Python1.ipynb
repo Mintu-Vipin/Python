{
  "nbformat": 4,
  "nbformat_minor": 0,
  "metadata": {
    "colab": {
      "provenance": [],
      "authorship_tag": "ABX9TyPfhp/io/S/Lv08DC/50i3b",
      "include_colab_link": true
    },
    "kernelspec": {
      "name": "python3",
      "display_name": "Python 3"
    },
    "language_info": {
      "name": "python"
    }
  },
  "cells": [
    {
      "cell_type": "markdown",
      "metadata": {
        "id": "view-in-github",
        "colab_type": "text"
      },
      "source": [
        "<a href=\"https://colab.research.google.com/github/Mintu-Vipin/Python/blob/main/Python1.ipynb\" target=\"_parent\"><img src=\"https://colab.research.google.com/assets/colab-badge.svg\" alt=\"Open In Colab\"/></a>"
      ]
    },
    {
      "cell_type": "markdown",
      "source": [
        "Reference: https://medium.com/@nikitasilaparasetty/python-interview-coding-questions-with-solutions-for-beginners-7f6d782defac"
      ],
      "metadata": {
        "id": "-I5J_wpaHv0q"
      }
    },
    {
      "cell_type": "markdown",
      "source": [
        "**10 Python questions**"
      ],
      "metadata": {
        "id": "VWnJRDsLLWc7"
      }
    },
    {
      "cell_type": "code",
      "source": [
        "# Question 1: Write a Python program to check if a string is a palindrome\n",
        "\n",
        "# Function palindrome\n",
        "def check_palindrome(string):\n",
        "  new_string = string[::-1]\n",
        "  if (new_string==string):\n",
        "    print(f'String {string} is palindrome')\n",
        "  else:\n",
        "    print(f'String {string} is not a palindrome')\n",
        "\n",
        "# Test case\n",
        "check_palindrome(\"malayalam\")\n",
        "check_palindrome(\"palindrome\")\n"
      ],
      "metadata": {
        "colab": {
          "base_uri": "https://localhost:8080/"
        },
        "id": "t2qYFR5rH2hh",
        "outputId": "03e78519-e6ac-44fe-fd4f-a6a0f08d8aec"
      },
      "execution_count": 5,
      "outputs": [
        {
          "output_type": "stream",
          "name": "stdout",
          "text": [
            "String malayalam is palindrome\n",
            "String palindrome is not a palindrome\n"
          ]
        }
      ]
    },
    {
      "cell_type": "code",
      "source": [
        "# Question 2: Write a Python program to find the factorial of a number.\n",
        "\n",
        "# Function factorial()\n",
        "def factorial(number):\n",
        "  factorial_number = 1\n",
        "  if(number == 0):\n",
        "    return f'Facrtorial number of {number} is 1'\n",
        "  for i in range(number,1,-1):\n",
        "    factorial_number *= i\n",
        "  return f'Facrtorial number of {number} is {factorial_number}'\n",
        "\n",
        "# Test case\n",
        "print(factorial(0))\n",
        "print(factorial(5))\n"
      ],
      "metadata": {
        "colab": {
          "base_uri": "https://localhost:8080/"
        },
        "id": "-y6wpS-TIfGV",
        "outputId": "6d55121b-bc3f-4ff9-8438-962b26303619"
      },
      "execution_count": 12,
      "outputs": [
        {
          "output_type": "stream",
          "name": "stdout",
          "text": [
            "Facrtorial number of 0 is 1\n",
            "Facrtorial number of 5 is 120\n"
          ]
        }
      ]
    },
    {
      "cell_type": "code",
      "source": [
        "# Question 2\n",
        "# Alternative solution\n",
        "# Function factorial()\n",
        "def factorial(number):\n",
        "  if(number == 0):\n",
        "    return 1\n",
        "  else:\n",
        "    return number*factorial(number-1)\n",
        "\n",
        "# Test case\n",
        "print(factorial(0))\n",
        "print(factorial(5))"
      ],
      "metadata": {
        "colab": {
          "base_uri": "https://localhost:8080/"
        },
        "id": "l7n_3TjkJyhR",
        "outputId": "d80bc524-cbf4-49fe-f359-710e115617d6"
      },
      "execution_count": 17,
      "outputs": [
        {
          "output_type": "stream",
          "name": "stdout",
          "text": [
            "1\n",
            "120\n"
          ]
        }
      ]
    },
    {
      "cell_type": "code",
      "source": [
        "# Question 3: Write a Python program to find the largest element in a list.\n",
        "\n",
        "# Function check_large_element()\n",
        "def check_large_element(list):\n",
        "  largest_element =0\n",
        "  for i in range(0,len(list)):\n",
        "    if(list[i]>largest_element):\n",
        "      largest_element=list[i]\n",
        "  return largest_element\n",
        "\n",
        "# Test case\n",
        "check_large_element([1001,90,84,88,3045,100,909])\n"
      ],
      "metadata": {
        "colab": {
          "base_uri": "https://localhost:8080/"
        },
        "id": "Q1xTdd0nLF5s",
        "outputId": "03539836-6e58-4bde-dde8-40b6c485b821"
      },
      "execution_count": 24,
      "outputs": [
        {
          "output_type": "execute_result",
          "data": {
            "text/plain": [
              "3045"
            ]
          },
          "metadata": {},
          "execution_count": 24
        }
      ]
    },
    {
      "cell_type": "code",
      "source": [
        "# Question 4: Write a Python program to reverse a string.\n",
        "\n",
        "# Function reverse_string()\n",
        "def reverse_string(string):\n",
        "  rev_string = string[::-1]\n",
        "  return f'Reverse of the string \\'{string}\\' is \\'{rev_string}\\' '\n",
        "\n",
        "# Test case\n",
        "reverse_string('I am happy')"
      ],
      "metadata": {
        "colab": {
          "base_uri": "https://localhost:8080/",
          "height": 36
        },
        "id": "-gBergi1MF86",
        "outputId": "2cbbe15c-240a-4ce9-d567-19576f2555b6"
      },
      "execution_count": 31,
      "outputs": [
        {
          "output_type": "execute_result",
          "data": {
            "text/plain": [
              "\"Reverse of the string 'I am happy' is 'yppah ma I' \""
            ],
            "application/vnd.google.colaboratory.intrinsic+json": {
              "type": "string"
            }
          },
          "metadata": {},
          "execution_count": 31
        }
      ]
    },
    {
      "cell_type": "code",
      "source": [
        "# Question 5: Write a Python program to count the frequency of each element in a list.\n",
        "\n",
        "# Function frequency()\n",
        "def frequency(list):\n",
        "  dict ={}\n",
        "  for i in list:\n",
        "    if i in dict:\n",
        "      dict[i]+= 1\n",
        "    else:\n",
        "      dict[i] =1\n",
        "  return f'Frequency of each element in the list {dict}'\n",
        "\n",
        "# Test case\n",
        "frequency([1,8,9,8,7,7,5,6,7,9,8])"
      ],
      "metadata": {
        "colab": {
          "base_uri": "https://localhost:8080/",
          "height": 36
        },
        "id": "usxaigb0PRMn",
        "outputId": "fc226541-6245-4b98-e234-76f7d219c1c9"
      },
      "execution_count": 35,
      "outputs": [
        {
          "output_type": "execute_result",
          "data": {
            "text/plain": [
              "'Frequency of each element in the list {1: 1, 8: 3, 9: 2, 7: 3, 5: 1, 6: 1}'"
            ],
            "application/vnd.google.colaboratory.intrinsic+json": {
              "type": "string"
            }
          },
          "metadata": {},
          "execution_count": 35
        }
      ]
    },
    {
      "cell_type": "code",
      "source": [
        "# Question 6: Write a Python program to check if a number is prime.\n",
        "\n",
        "# Function check_prime()\n",
        "def check_prime(number):\n",
        "  # Prime numbers are greater than 1\n",
        "  if(number<2):\n",
        "    return f'{number} is not a prime number'\n",
        "  for i in range(2, number):\n",
        "    if(number%i==0):\n",
        "      return f'{number} is not a prime number'\n",
        "    return f'{number} is a prime number'\n",
        "\n",
        "# Test case\n",
        "check_prime(7)"
      ],
      "metadata": {
        "colab": {
          "base_uri": "https://localhost:8080/",
          "height": 36
        },
        "id": "8ZieyodWQxrZ",
        "outputId": "5d2a38d2-85b8-412f-f612-5d166b654c19"
      },
      "execution_count": 11,
      "outputs": [
        {
          "output_type": "execute_result",
          "data": {
            "text/plain": [
              "'7 is a prime number'"
            ],
            "application/vnd.google.colaboratory.intrinsic+json": {
              "type": "string"
            }
          },
          "metadata": {},
          "execution_count": 11
        }
      ]
    },
    {
      "cell_type": "code",
      "source": [
        "# Question 7: Write a Python program to find the common elements between two lists.\n",
        "# Function find_common_element()\n",
        "def find_common_element(list1,list2):\n",
        " return list(set(list1).intersection(list2))\n",
        "\n",
        "# Test case\n",
        "find_common_element([1,2,3,4], [1,2])"
      ],
      "metadata": {
        "colab": {
          "base_uri": "https://localhost:8080/"
        },
        "id": "zXfU_P2qS90q",
        "outputId": "bc27a66d-43fa-43b0-e89f-20d62d6ed439"
      },
      "execution_count": 13,
      "outputs": [
        {
          "output_type": "execute_result",
          "data": {
            "text/plain": [
              "[1, 2]"
            ]
          },
          "metadata": {},
          "execution_count": 13
        }
      ]
    },
    {
      "cell_type": "code",
      "source": [
        "# Question 8: Write a Python program to sort a list of elements using the bubble sort algorithm.\n",
        "\n",
        "# Function bubble_sort()\n",
        "def bubble_sort(list):\n",
        "\n",
        "  for i in range(len(list)):\n",
        "    for j in range(0,len(list)-i-1):\n",
        "      if(list[j]>list[j+1]):\n",
        "        # Swap elements using a temporary variable\n",
        "        temp = list[j]\n",
        "        list[j] = list[j+1]\n",
        "        list[j+1] = temp\n",
        "  return list\n",
        "\n",
        "# Test cae\n",
        "bubble_sort([2,1,4,7,8,2])"
      ],
      "metadata": {
        "colab": {
          "base_uri": "https://localhost:8080/"
        },
        "id": "p052h4EKTRGk",
        "outputId": "f0311677-7a4e-43ae-f1fb-6ef7fe534da4"
      },
      "execution_count": 43,
      "outputs": [
        {
          "output_type": "execute_result",
          "data": {
            "text/plain": [
              "[1, 2, 2, 4, 7, 8]"
            ]
          },
          "metadata": {},
          "execution_count": 43
        }
      ]
    },
    {
      "cell_type": "code",
      "source": [
        "# Question 9: Write a Python program to find the second largest number in a list.\n",
        "\n",
        "# Function second_largest()\n",
        "def second_largest(list):\n",
        "  sorted_list = sorted(list)\n",
        "  print(sorted_list)\n",
        "  return sorted_list[len(sorted_list)-2]\n",
        "\n",
        "# Test case\n",
        "second_largest([3,100,45,678,3,2,34])"
      ],
      "metadata": {
        "colab": {
          "base_uri": "https://localhost:8080/"
        },
        "id": "-qkeTcczTURl",
        "outputId": "04a8c8dc-112f-4c1d-c8f0-67263bf55632"
      },
      "execution_count": 28,
      "outputs": [
        {
          "output_type": "stream",
          "name": "stdout",
          "text": [
            "[2, 3, 3, 34, 45, 100, 678]\n"
          ]
        },
        {
          "output_type": "execute_result",
          "data": {
            "text/plain": [
              "100"
            ]
          },
          "metadata": {},
          "execution_count": 28
        }
      ]
    },
    {
      "cell_type": "code",
      "source": [
        "# Question 10: Write a Python program to remove duplicates from a list.\n",
        "\n",
        "# Function remove_duplicates()\n",
        "def remove_duplicates(list):\n",
        "  new_list = []\n",
        "  for element in list:\n",
        "    if element not in new_list:\n",
        "      new_list.append(element)\n",
        "  return new_list\n",
        "\n",
        "# Test case\n",
        "remove_duplicates([1,2,3,1,3,1,1,2,2,1,2,1])"
      ],
      "metadata": {
        "colab": {
          "base_uri": "https://localhost:8080/"
        },
        "id": "ia4pMTBLTXlf",
        "outputId": "05b767b3-c834-42b0-b78c-d7828fcb29b1"
      },
      "execution_count": 39,
      "outputs": [
        {
          "output_type": "execute_result",
          "data": {
            "text/plain": [
              "[1, 2, 3]"
            ]
          },
          "metadata": {},
          "execution_count": 39
        }
      ]
    }
  ]
}